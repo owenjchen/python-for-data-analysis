{
 "cells": [
  {
   "cell_type": "markdown",
   "metadata": {
    "_cell_guid": "b1076dfc-b9ad-4769-8c92-a6c4dae69d19",
    "_uuid": "8f2839f25d086af736a60e9eeb907d3b93b6e0e5"
   },
   "source": [
    "# Python for Data 30: Random Forests\n",
    "[back to index](https://www.kaggle.com/hamelg/python-for-data-analysis-index)"
   ]
  },
  {
   "cell_type": "markdown",
   "metadata": {
    "_cell_guid": "79c7e3d0-c299-4dcb-8224-4455121ee9b0",
    "_uuid": "d629ff2d2480ee46fbb7e2d37f6b5fab8052498a",
    "collapsed": true
   },
   "source": [
    "For the final lesson in this guide, we'll learn about random forest models. As we saw last time, decision trees are a conceptually simple predictive modeling technique, but when you start building deep trees, they become complicated and likely to overfit your training data. In addition, decision trees are constructed in a way such that branch splits are always made on variables that appear to be the most significant first, even if those splits do not lead to optimal outcomes as the tree grows. Random forests are an extension of decision trees that address these shortcomings."
   ]
  },
  {
   "cell_type": "markdown",
   "metadata": {},
   "source": [
    "# Random Forest Basics"
   ]
  },
  {
   "cell_type": "markdown",
   "metadata": {},
   "source": [
    "A random forest model is a collection of decision tree models that are combined together to make predictions. When you make a random forest, you have to specify the number of decision trees you want to use to make the model. The random forest algorithm then takes random samples of observations from your training data and builds a decision tree model for each sample. The random samples are typically drawn with replacement, meaning the same observation can be drawn multiple times. The end result is a bunch of decision trees that are created with different groups of data records drawn from the original training data.\n",
    "\n",
    "The decision trees in a random forest model are a little different than the standard decision trees we made last time. Instead of growing trees where every single explanatory variable can potentially be used to make a branch at any level in the tree, random forests limit the variables that can be used to make a split in the decision tree to some random subset of the explanatory variables. Limiting the splits in this fashion helps avoid the pitfall of always splitting on the same variables and helps random forests create a wider variety of trees to reduce overfitting.\n",
    "\n",
    "Random forests are an example of an ensemble model: a model composed of some combination of several different underlying models. Ensemble models often yields better results than single models because different models may detect different patterns in the data and combining models tends to dull the tendency that complex single models have to overfit the data."
   ]
  },
  {
   "cell_type": "markdown",
   "metadata": {},
   "source": [
    "# Random Forests on the Titanic"
   ]
  },
  {
   "cell_type": "markdown",
   "metadata": {},
   "source": [
    "Python's sklearn package offers a random forest model that works much like the decision tree model we used last time. Let's use it to train a random forest model on the Titanic training set:"
   ]
  },
  {
   "cell_type": "code",
   "execution_count": 1,
   "metadata": {},
   "outputs": [],
   "source": [
    "import numpy as np\n",
    "import pandas as pd\n",
    "import os"
   ]
  },
  {
   "cell_type": "code",
   "execution_count": 2,
   "metadata": {},
   "outputs": [],
   "source": [
    "# Load and prepare Titanic data\n",
    "titanic_train = pd.read_csv(\"../input/train.csv\")    # Read the data\n",
    "\n",
    "# Impute median Age for NA Age values\n",
    "new_age_var = np.where(titanic_train[\"Age\"].isnull(), # Logical check\n",
    "                       28,                       # Value if check is true\n",
    "                       titanic_train[\"Age\"])     # Value if check is false\n",
    "\n",
    "titanic_train[\"Age\"] = new_age_var "
   ]
  },
  {
   "cell_type": "code",
   "execution_count": 3,
   "metadata": {},
   "outputs": [],
   "source": [
    "from sklearn.ensemble import RandomForestClassifier\n",
    "from sklearn import preprocessing"
   ]
  },
  {
   "cell_type": "code",
   "execution_count": 4,
   "metadata": {},
   "outputs": [
    {
     "name": "stdout",
     "output_type": "stream",
     "text": [
      "OOB accuracy: \n",
      "0.819304152637486\n"
     ]
    }
   ],
   "source": [
    "# Set the seed\n",
    "np.random.seed(12)\n",
    "\n",
    "# Initialize label encoder\n",
    "label_encoder = preprocessing.LabelEncoder()\n",
    "\n",
    "# Convert some variables to numeric\n",
    "titanic_train[\"Sex\"] = label_encoder.fit_transform(titanic_train[\"Sex\"])\n",
    "\n",
    "# Initialize the model\n",
    "rf_model = RandomForestClassifier(n_estimators=1000, # Number of trees\n",
    "                                  max_features=2,    # Num features considered\n",
    "                                  oob_score=True)    # Use OOB scoring*\n",
    "\n",
    "features = [\"Sex\",\"Pclass\",\"SibSp\",\"Age\",\"Fare\"]\n",
    "\n",
    "# Train the model\n",
    "rf_model.fit(X=titanic_train[features],\n",
    "             y=titanic_train[\"Survived\"])\n",
    "\n",
    "print(\"OOB accuracy: \")\n",
    "print(rf_model.oob_score_)"
   ]
  },
  {
   "cell_type": "markdown",
   "metadata": {},
   "source": [
    "Since random forest models involve building trees from random subsets or \"bags\" of data, model performance can be estimated by making predictions on the out-of-bag (OOB) samples instead of using cross validation. You can use cross validation on random forests, but OOB validation already provides a good estimate of performance and building several random forest models to conduct K-fold cross validation with random forest models can be computationally expensive.\n",
    "\n",
    "The random forest classifier assigns an importance value to each feature used in training. Features with higher importance were more influential in creating the model, indicating a stronger association with the response variable. Let's check the feature importance for our random forest model:"
   ]
  },
  {
   "cell_type": "code",
   "execution_count": 5,
   "metadata": {},
   "outputs": [
    {
     "name": "stdout",
     "output_type": "stream",
     "text": [
      "Sex 0.2734664424750404\n",
      "Pclass 0.09002593001585943\n",
      "SibSp 0.048686858870217946\n",
      "Age 0.27668347382949066\n",
      "Fare 0.3111372948093919\n"
     ]
    }
   ],
   "source": [
    "for feature, imp in zip(features, rf_model.feature_importances_):\n",
    "    print(feature, imp)"
   ]
  },
  {
   "cell_type": "markdown",
   "metadata": {},
   "source": [
    "Feature importance can help identify useful features and eliminate features that don't contribute much to the model.\n",
    "\n",
    "As a final exercise, let's use the random forest model to make predictions on the titanic test set and submit them to Kaggle to see how our actual generalization performance compares to the OOB estimate:"
   ]
  },
  {
   "cell_type": "code",
   "execution_count": 6,
   "metadata": {},
   "outputs": [],
   "source": [
    "# Read and prepare test data\n",
    "titanic_test = pd.read_csv(\"../input/test.csv\")    # Read the data\n",
    "\n",
    "# Impute median Age for NA Age values\n",
    "new_age_var = np.where(titanic_test[\"Age\"].isnull(),\n",
    "                       28,                      \n",
    "                       titanic_test[\"Age\"])      \n",
    "\n",
    "titanic_test[\"Age\"] = new_age_var \n",
    "\n",
    "# Fill missing Fare with 50\n",
    "new_fare_var = np.where(titanic_test[\"Fare\"].isnull(),\n",
    "                       50,                      \n",
    "                       titanic_test[\"Fare\"])      \n",
    "\n",
    "titanic_test[\"Fare\"] = new_fare_var \n",
    "\n",
    "# Convert some variables to numeric\n",
    "titanic_test[\"Sex\"] = label_encoder.fit_transform(titanic_test[\"Sex\"])"
   ]
  },
  {
   "cell_type": "code",
   "execution_count": 7,
   "metadata": {},
   "outputs": [],
   "source": [
    "# Make test set predictions\n",
    "test_preds = rf_model.predict(X = titanic_test[features])\n",
    "\n",
    "# Create a submission for Kaggle\n",
    "submission = pd.DataFrame({\"PassengerId\":titanic_test[\"PassengerId\"],\n",
    "                           \"Survived\":test_preds})\n",
    "\n",
    "# Save submission to CSV\n",
    "submission.to_csv(\"tutorial_randomForest_submission.csv\", \n",
    "                  index=False)        # Do not save index values"
   ]
  },
  {
   "cell_type": "markdown",
   "metadata": {},
   "source": [
    "Upon submission, the random forest model achieves an accuracy score of 0.74641, which is actually worse than the decision tree model and even the simple gender-based model. What gives? Is the model overfitting the training data? Did we choose bad variables and model parameters? Or perhaps our simplistic imputation of filling in missing age data using median ages is hurting our accuracy. Data analyses and predictive models often don't turn out how you expect, but even a \"bad\" result can give you insight into your problem and help you improve your analysis or model in a future iteration."
   ]
  },
  {
   "cell_type": "markdown",
   "metadata": {},
   "source": [
    "# Python for Data Analysis Conclusion"
   ]
  },
  {
   "cell_type": "markdown",
   "metadata": {},
   "source": [
    "In this introduction to Python for data analysis series, we built up slowly from the most basic rudiments of the Python language to building predictive models that you can apply to real-world data. Although Python is a beginner-friendly programming language, it was not built specifically for data analysis, so we relied heavily upon libraries to extend base Python's functionality when doing data analysis. As a series focused on practical tools and geared toward beginners, we didn't always take the time to dig deep into the details of the language or the statistical and predictive models we covered. My hope is that some of the lessons in this guide piqued your interest and equipped you with the tools you need to dig deeper on your own.\n",
    "\n",
    "If you're interested in learning more about Python for data science, your best bet is to use what you've learned to tackle a project that interests you. An easy way to get started is to use the Kaggle kernel platform we've used in this guide to tackle a Kaggle competition or analyze an existing Kaggle dataset. Reading guides, books and taking online courses is a good way to build your foundational knowledge, but jumping in and doing projects--and learning what you need to know along the way--is probably the best way to learn.\n",
    "\n",
    "One of the hardest parts of learning a new skill is getting started. If any part of this guide helped you get started, it has served its purpose.\n",
    "\n",
    "*Final Note: If you are interested in learning R, I have a [30-part introduction to R](https://www.kaggle.com/hamelg/intro-to-r-index) guide that covers most of the same topics as this Python guide and recreates many of the same examples in R.*"
   ]
  },
  {
   "cell_type": "markdown",
   "metadata": {},
   "source": [
    "## The End!\n",
    "[back to index](https://www.kaggle.com/hamelg/python-for-data-analysis-index)"
   ]
  }
 ],
 "metadata": {
  "kernelspec": {
   "display_name": "Python 3",
   "language": "python",
   "name": "python3"
  },
  "language_info": {
   "codemirror_mode": {
    "name": "ipython",
    "version": 3
   },
   "file_extension": ".py",
   "mimetype": "text/x-python",
   "name": "python",
   "nbconvert_exporter": "python",
   "pygments_lexer": "ipython3",
   "version": "3.6.4"
  }
 },
 "nbformat": 4,
 "nbformat_minor": 1
}
